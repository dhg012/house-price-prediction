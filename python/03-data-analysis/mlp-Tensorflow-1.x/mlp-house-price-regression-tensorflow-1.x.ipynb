{
 "cells": [
  {
   "cell_type": "markdown",
   "metadata": {},
   "source": [
    "# House Price Prediction"
   ]
  },
  {
   "cell_type": "markdown",
   "metadata": {},
   "source": [
    "##### LOAD THE FEATURE DATA"
   ]
  },
  {
   "cell_type": "code",
   "execution_count": 1,
   "metadata": {},
   "outputs": [
    {
     "name": "stdout",
     "output_type": "stream",
     "text": [
      "Feature data, shape:\n",
      "X: (506, 13)\n"
     ]
    },
    {
     "data": {
      "text/html": [
       "<div>\n",
       "<style scoped>\n",
       "    .dataframe tbody tr th:only-of-type {\n",
       "        vertical-align: middle;\n",
       "    }\n",
       "\n",
       "    .dataframe tbody tr th {\n",
       "        vertical-align: top;\n",
       "    }\n",
       "\n",
       "    .dataframe thead th {\n",
       "        text-align: right;\n",
       "    }\n",
       "</style>\n",
       "<table border=\"1\" class=\"dataframe\">\n",
       "  <thead>\n",
       "    <tr style=\"text-align: right;\">\n",
       "      <th></th>\n",
       "      <th>CRIM</th>\n",
       "      <th>ZN</th>\n",
       "      <th>INDUS</th>\n",
       "      <th>CHAS</th>\n",
       "      <th>NOX</th>\n",
       "      <th>RM</th>\n",
       "      <th>AGE</th>\n",
       "      <th>DIS</th>\n",
       "      <th>RAD</th>\n",
       "      <th>TAX</th>\n",
       "      <th>PTRATIO</th>\n",
       "      <th>B</th>\n",
       "      <th>LSTAT</th>\n",
       "    </tr>\n",
       "  </thead>\n",
       "  <tbody>\n",
       "    <tr>\n",
       "      <th>0</th>\n",
       "      <td>-0.419782</td>\n",
       "      <td>0.284830</td>\n",
       "      <td>-1.287909</td>\n",
       "      <td>-0.272599</td>\n",
       "      <td>-0.144217</td>\n",
       "      <td>0.413672</td>\n",
       "      <td>-0.120013</td>\n",
       "      <td>0.140214</td>\n",
       "      <td>-0.982843</td>\n",
       "      <td>-0.666608</td>\n",
       "      <td>-1.459000</td>\n",
       "      <td>0.441052</td>\n",
       "      <td>-1.075562</td>\n",
       "    </tr>\n",
       "    <tr>\n",
       "      <th>1</th>\n",
       "      <td>-0.417339</td>\n",
       "      <td>-0.487722</td>\n",
       "      <td>-0.593381</td>\n",
       "      <td>-0.272599</td>\n",
       "      <td>-0.740262</td>\n",
       "      <td>0.194274</td>\n",
       "      <td>0.367166</td>\n",
       "      <td>0.557160</td>\n",
       "      <td>-0.867883</td>\n",
       "      <td>-0.987329</td>\n",
       "      <td>-0.303094</td>\n",
       "      <td>0.441052</td>\n",
       "      <td>-0.492439</td>\n",
       "    </tr>\n",
       "    <tr>\n",
       "      <th>2</th>\n",
       "      <td>-0.417342</td>\n",
       "      <td>-0.487722</td>\n",
       "      <td>-0.593381</td>\n",
       "      <td>-0.272599</td>\n",
       "      <td>-0.740262</td>\n",
       "      <td>1.282714</td>\n",
       "      <td>-0.265812</td>\n",
       "      <td>0.557160</td>\n",
       "      <td>-0.867883</td>\n",
       "      <td>-0.987329</td>\n",
       "      <td>-0.303094</td>\n",
       "      <td>0.396427</td>\n",
       "      <td>-1.208727</td>\n",
       "    </tr>\n",
       "    <tr>\n",
       "      <th>3</th>\n",
       "      <td>-0.416750</td>\n",
       "      <td>-0.487722</td>\n",
       "      <td>-1.306878</td>\n",
       "      <td>-0.272599</td>\n",
       "      <td>-0.835284</td>\n",
       "      <td>1.016303</td>\n",
       "      <td>-0.809889</td>\n",
       "      <td>1.077737</td>\n",
       "      <td>-0.752922</td>\n",
       "      <td>-1.106115</td>\n",
       "      <td>0.113032</td>\n",
       "      <td>0.416163</td>\n",
       "      <td>-1.361517</td>\n",
       "    </tr>\n",
       "    <tr>\n",
       "      <th>4</th>\n",
       "      <td>-0.412482</td>\n",
       "      <td>-0.487722</td>\n",
       "      <td>-1.306878</td>\n",
       "      <td>-0.272599</td>\n",
       "      <td>-0.835284</td>\n",
       "      <td>1.228577</td>\n",
       "      <td>-0.511180</td>\n",
       "      <td>1.077737</td>\n",
       "      <td>-0.752922</td>\n",
       "      <td>-1.106115</td>\n",
       "      <td>0.113032</td>\n",
       "      <td>0.441052</td>\n",
       "      <td>-1.026501</td>\n",
       "    </tr>\n",
       "  </tbody>\n",
       "</table>\n",
       "</div>"
      ],
      "text/plain": [
       "       CRIM        ZN     INDUS      CHAS       NOX        RM       AGE  \\\n",
       "0 -0.419782  0.284830 -1.287909 -0.272599 -0.144217  0.413672 -0.120013   \n",
       "1 -0.417339 -0.487722 -0.593381 -0.272599 -0.740262  0.194274  0.367166   \n",
       "2 -0.417342 -0.487722 -0.593381 -0.272599 -0.740262  1.282714 -0.265812   \n",
       "3 -0.416750 -0.487722 -1.306878 -0.272599 -0.835284  1.016303 -0.809889   \n",
       "4 -0.412482 -0.487722 -1.306878 -0.272599 -0.835284  1.228577 -0.511180   \n",
       "\n",
       "        DIS       RAD       TAX   PTRATIO         B     LSTAT  \n",
       "0  0.140214 -0.982843 -0.666608 -1.459000  0.441052 -1.075562  \n",
       "1  0.557160 -0.867883 -0.987329 -0.303094  0.441052 -0.492439  \n",
       "2  0.557160 -0.867883 -0.987329 -0.303094  0.396427 -1.208727  \n",
       "3  1.077737 -0.752922 -1.106115  0.113032  0.416163 -1.361517  \n",
       "4  1.077737 -0.752922 -1.106115  0.113032  0.441052 -1.026501  "
      ]
     },
     "execution_count": 1,
     "metadata": {},
     "output_type": "execute_result"
    }
   ],
   "source": [
    "import pandas as pd\n",
    "import numpy as np\n",
    "\n",
    "X = pd.read_csv('../../../data/preprocessed_data/X.csv', sep=',')\n",
    "\n",
    "print ('Feature data, shape:\\nX: {}'.format(X.shape))\n",
    "X.head()"
   ]
  },
  {
   "cell_type": "code",
   "execution_count": 2,
   "metadata": {},
   "outputs": [
    {
     "name": "stdout",
     "output_type": "stream",
     "text": [
      "Target data, shape:\n",
      "y: (506, 1)\n"
     ]
    },
    {
     "data": {
      "text/html": [
       "<div>\n",
       "<style scoped>\n",
       "    .dataframe tbody tr th:only-of-type {\n",
       "        vertical-align: middle;\n",
       "    }\n",
       "\n",
       "    .dataframe tbody tr th {\n",
       "        vertical-align: top;\n",
       "    }\n",
       "\n",
       "    .dataframe thead th {\n",
       "        text-align: right;\n",
       "    }\n",
       "</style>\n",
       "<table border=\"1\" class=\"dataframe\">\n",
       "  <thead>\n",
       "    <tr style=\"text-align: right;\">\n",
       "      <th></th>\n",
       "      <th>0</th>\n",
       "    </tr>\n",
       "  </thead>\n",
       "  <tbody>\n",
       "    <tr>\n",
       "      <th>0</th>\n",
       "      <td>24.0</td>\n",
       "    </tr>\n",
       "    <tr>\n",
       "      <th>1</th>\n",
       "      <td>21.6</td>\n",
       "    </tr>\n",
       "    <tr>\n",
       "      <th>2</th>\n",
       "      <td>34.7</td>\n",
       "    </tr>\n",
       "    <tr>\n",
       "      <th>3</th>\n",
       "      <td>33.4</td>\n",
       "    </tr>\n",
       "    <tr>\n",
       "      <th>4</th>\n",
       "      <td>36.2</td>\n",
       "    </tr>\n",
       "  </tbody>\n",
       "</table>\n",
       "</div>"
      ],
      "text/plain": [
       "      0\n",
       "0  24.0\n",
       "1  21.6\n",
       "2  34.7\n",
       "3  33.4\n",
       "4  36.2"
      ]
     },
     "execution_count": 2,
     "metadata": {},
     "output_type": "execute_result"
    }
   ],
   "source": [
    "y = pd.read_csv('../../../data/preprocessed_data/y.csv', sep=',', header=None)\n",
    "\n",
    "print ('Target data, shape:\\ny: {}'.format(y.shape))\n",
    "y.head()"
   ]
  },
  {
   "cell_type": "markdown",
   "metadata": {},
   "source": [
    "##### SPLIT THE DATA"
   ]
  },
  {
   "cell_type": "code",
   "execution_count": 3,
   "metadata": {},
   "outputs": [
    {
     "name": "stdout",
     "output_type": "stream",
     "text": [
      "Data shapes:\n",
      "\n",
      "X_train : (404, 13)\n",
      "y_train : (404, 1)\n",
      "\n",
      "X_test : (102, 13)\n",
      "y_test : (102, 1)\n"
     ]
    }
   ],
   "source": [
    "from sklearn.model_selection import train_test_split\n",
    "\n",
    "# set the seed for reproducibility\n",
    "np.random.seed(127)\n",
    "\n",
    "# split the dataset into 2 training and 2 testing sets\n",
    "X_train, X_test, y_train, y_test = train_test_split(X.values, y.values, test_size=0.2, random_state=13)\n",
    "\n",
    "print('Data shapes:\\n')\n",
    "print('X_train : {}\\ny_train : {}\\n\\nX_test : {}\\ny_test : {}'.format(X_train.shape,\n",
    "                                                                    y_train.shape,\n",
    "                                                                    X_test.shape,\n",
    "                                                                    y_test.shape))"
   ]
  },
  {
   "cell_type": "markdown",
   "metadata": {},
   "source": [
    "##### DEFINE NETWORK PARAMETERS"
   ]
  },
  {
   "cell_type": "code",
   "execution_count": 4,
   "metadata": {},
   "outputs": [],
   "source": [
    "# define number of attributes\n",
    "n_features = X_train.shape[1]\n",
    "n_target = 1  # quantitative data\n",
    "\n",
    "# count number of samples in each set of data\n",
    "n_train = X_train.shape[0]\n",
    "n_test = X_test.shape[0]\n",
    "\n",
    "# define amount of neurons\n",
    "n_layer_in = n_features # 12 neurons in input layer\n",
    "n_layer_h1 = 5          # first  hidden layer\n",
    "n_layer_h2 = 5          # second hidden layer\n",
    "n_layer_out = n_target  # 1 neurons in output layer\n",
    "\n",
    "sigma_init = 0.01   # For randomized initialization"
   ]
  },
  {
   "cell_type": "markdown",
   "metadata": {},
   "source": [
    "##### RESET TENSORFLOW GRAPH IF THERE IS ANY"
   ]
  },
  {
   "cell_type": "code",
   "execution_count": 5,
   "metadata": {},
   "outputs": [],
   "source": [
    "import tensorflow as tf\n",
    "\n",
    "# this will set up a specific seed in order to control the output \n",
    "# and get more homogeneous results though every model variation\n",
    "def reset_graph(seed=127):\n",
    "    tf.reset_default_graph()\n",
    "    tf.set_random_seed(seed)\n",
    "    np.random.seed(seed)\n",
    "    \n",
    "reset_graph()"
   ]
  },
  {
   "cell_type": "markdown",
   "metadata": {},
   "source": [
    "##### MODEL ARCHITECTURE"
   ]
  },
  {
   "cell_type": "code",
   "execution_count": 6,
   "metadata": {},
   "outputs": [],
   "source": [
    "# create symbolic variables\n",
    "X = tf.placeholder(tf.float32, [None, n_layer_in], name=\"input\")\n",
    "Y = tf.placeholder(tf.float32, [None, n_layer_out], name=\"output\")\n",
    "\n",
    "# deploy the variables that will store the weights\n",
    "W = {\n",
    "    'W1': tf.Variable(tf.random_normal([n_layer_in, n_layer_h1], stddev = sigma_init), name='W1'),\n",
    "    'W2': tf.Variable(tf.random_normal([n_layer_h1, n_layer_h2], stddev = sigma_init), name='W2'),\n",
    "    'W3': tf.Variable(tf.random_normal([n_layer_h2, n_layer_out], stddev = sigma_init), name='W3')\n",
    "}\n",
    "\n",
    "# deploy the variables that will store the bias\n",
    "b = {\n",
    "    'b1': tf.Variable(tf.random_normal([n_layer_h1]), name='b1'),\n",
    "    'b2': tf.Variable(tf.random_normal([n_layer_h2]), name='b2'),\n",
    "    'b3': tf.Variable(tf.random_normal([n_layer_out]), name='b3')\n",
    "}\n",
    "\n",
    "# this will create the model architecture and output the result\n",
    "def model_MLP(_X, _W, _b):\n",
    "    with tf.name_scope('hidden_1'):\n",
    "        layer_h1 = tf.nn.selu(tf.add(tf.matmul(_X,_W['W1']), _b['b1']))\n",
    "    with tf.name_scope('hidden_2'):\n",
    "        layer_h2 = tf.nn.selu(tf.add(tf.matmul(layer_h1,_W['W2']), _b['b2']))\n",
    "    with tf.name_scope('layer_output'):\n",
    "        layer_out = tf.add(tf.matmul(layer_h2,_W['W3']), _b['b3'])\n",
    "        return layer_out   # these are the predictions\n",
    "\n",
    "with tf.name_scope(\"MLP\"):\n",
    "    y_pred = model_MLP(X, W, b)"
   ]
  },
  {
   "cell_type": "markdown",
   "metadata": {},
   "source": [
    "##### DEFINE LEARNING RATE"
   ]
  },
  {
   "cell_type": "code",
   "execution_count": 7,
   "metadata": {},
   "outputs": [
    {
     "name": "stdout",
     "output_type": "stream",
     "text": [
      "Decaying Learning Rate :  none\n"
     ]
    }
   ],
   "source": [
    "learning_rate = 0.4\n",
    "\n",
    "# CHOOSE A DECAYING METHOD IN HERE\n",
    "model_decay = 'none'      # [exponential | inverse_time | natural_exponential | polynomial | none]\n",
    "\n",
    "global_step = tf.Variable(0, trainable=False)\n",
    "decay_rate = 0.90\n",
    "decay_step = 10000\n",
    "\n",
    "if model_decay == 'exponential':\n",
    "    learning_rate = tf.train.exponential_decay(learning_rate, global_step, decay_step, decay_rate)\n",
    "\n",
    "elif model_decay == 'inverse_time':\n",
    "    learning_rate = tf.train.inverse_time_decay(learning_rate, global_step, decay_step, decay_rate)\n",
    "    \n",
    "elif model_decay == 'natural_exponential':\n",
    "    learning_rate = tf.train.natural_exp_decay(learning_rate, global_step, decay_step, decay_rate)\n",
    "    \n",
    "elif model_decay == 'polynomial':\n",
    "    end_learning_rate = 0.001\n",
    "    learning_rate = tf.train.polynomial_decay(learning_rate, global_step, decay_step, end_learning_rate, power=0.5)\n",
    "    \n",
    "else:\n",
    "    decay_rate = 1.0\n",
    "    learning_rate = tf.train.exponential_decay(learning_rate, global_step, decay_step, decay_rate)\n",
    "\n",
    "print('Decaying Learning Rate : ', model_decay)"
   ]
  },
  {
   "cell_type": "markdown",
   "metadata": {},
   "source": [
    "##### DEFINE MODEL TRAINING AND MEASURE PERFORMANCE"
   ]
  },
  {
   "cell_type": "code",
   "execution_count": 8,
   "metadata": {},
   "outputs": [],
   "source": [
    "with tf.name_scope(\"loss\"):\n",
    "    loss = tf.square(Y - y_pred)                                                       # squared error\n",
    "    #loss = tf.nn.softmax(logits=y_pred)                                                # softmax\n",
    "    #loss = tf.nn.log_softmax(logits=y_pred)                                            # log-softmax\n",
    "    #loss = tf.nn.softmax_cross_entropy_with_logits_v2(labels=Y, logits=y_pred, dim=-1) # cross-entropy\n",
    "    #loss = tf.nn.sigmoid_cross_entropy_with_logits(labels=Y, logits=y_pred)            # sigmoid-cross-entropy\n",
    "    #loss = tf.nn.sparse_softmax_cross_entropy_with_logits(labels=Y, logits=y_pred)     # sparse-softmax-cross-entropy\n",
    "    loss = tf.reduce_mean(loss, name='MSE')\n",
    "    \n",
    "with tf.name_scope(\"train\"):\n",
    "    #optimizer = tf.train.GradientDescentOptimizer(learning_rate)                     # SGD\n",
    "    #optimizer = tf.train.MomentumOptimizer(learning_rate=learning_rate,momentum=0.9) # MOMENTUM\n",
    "    #optimizer = tf.train.AdagradOptimizer(learning_rate=learning_rate)               # ADAGRAD\n",
    "    optimizer = tf.train.AdadeltaOptimizer(learning_rate=learning_rate)              # ADADELTA\n",
    "    #optimizer = tf.train.RMSPropOptimizer(learning_rate=learning_rate, decay=1)      # RMS\n",
    "    training_op = optimizer.minimize(loss, global_step=global_step)\n",
    "\n",
    "# Create summaries    \n",
    "tf.summary.scalar(\"loss\", loss)\n",
    "tf.summary.scalar(\"learn_rate\", learning_rate)\n",
    "\n",
    "# Merge all summaries into a single op to generate the summary data\n",
    "merged_summary_op = tf.summary.merge_all()"
   ]
  },
  {
   "cell_type": "markdown",
   "metadata": {},
   "source": [
    "##### EXECUTE THE MODEL"
   ]
  },
  {
   "cell_type": "code",
   "execution_count": 9,
   "metadata": {
    "scrolled": false
   },
   "outputs": [
    {
     "name": "stdout",
     "output_type": "stream",
     "text": [
      "Epoch: 0002\tTrainMSE: 596.19885\tTestMSE: 545.42310, Learning: 0.4000000\n",
      "Epoch: 0004\tTrainMSE: 583.20251\tTestMSE: 533.55811, Learning: 0.4000000\n",
      "Epoch: 0006\tTrainMSE: 35.75017\tTestMSE: 34.80634, Learning: 0.4000000\n",
      "Epoch: 0008\tTrainMSE: 23.05773\tTestMSE: 22.79489, Learning: 0.4000000\n",
      "Epoch: 0010\tTrainMSE: 21.23712\tTestMSE: 20.91974, Learning: 0.4000000\n",
      "Epoch: 0012\tTrainMSE: 20.45389\tTestMSE: 19.68934, Learning: 0.4000000\n",
      "Epoch: 0014\tTrainMSE: 19.87004\tTestMSE: 18.63902, Learning: 0.4000000\n",
      "Epoch: 0016\tTrainMSE: 19.40698\tTestMSE: 17.78506, Learning: 0.4000000\n",
      "Epoch: 0018\tTrainMSE: 19.03131\tTestMSE: 17.12411, Learning: 0.4000000\n",
      "Epoch: 0020\tTrainMSE: 18.72885\tTestMSE: 16.63563, Learning: 0.4000000\n",
      "Epoch: 0022\tTrainMSE: 18.51796\tTestMSE: 16.38017, Learning: 0.4000000\n",
      "Epoch: 0024\tTrainMSE: 18.35551\tTestMSE: 16.17319, Learning: 0.4000000\n",
      "Epoch: 0026\tTrainMSE: 18.25398\tTestMSE: 16.04083, Learning: 0.4000000\n",
      "Epoch: 0028\tTrainMSE: 18.16143\tTestMSE: 15.96518, Learning: 0.4000000\n",
      "Epoch: 0030\tTrainMSE: 18.10532\tTestMSE: 15.88546, Learning: 0.4000000\n",
      "Epoch: 0032\tTrainMSE: 18.05683\tTestMSE: 15.84991, Learning: 0.4000000\n",
      "Epoch: 0034\tTrainMSE: 18.01700\tTestMSE: 15.82729, Learning: 0.4000000\n",
      "Epoch: 0036\tTrainMSE: 17.97848\tTestMSE: 15.82194, Learning: 0.4000000\n",
      "Epoch: 0038\tTrainMSE: 17.95045\tTestMSE: 15.80706, Learning: 0.4000000\n",
      "Epoch: 0040\tTrainMSE: 17.92572\tTestMSE: 15.79528, Learning: 0.4000000\n",
      "\n",
      "Printing results :\n",
      "\n",
      "      Prediction  Target  Difference\n",
      "0      9.193834    12.0    2.806166\n",
      "1     18.926088    15.2   -3.726088\n",
      "2     23.117142    21.0   -2.117142\n",
      "3     27.829626    24.0   -3.829626\n",
      "4     21.263201    19.4   -1.863201\n",
      "5     23.466669    22.2   -1.266669\n",
      "6     23.411528    23.3   -0.111528\n",
      "7     22.245726    15.6   -6.645726\n",
      "8     20.158220    20.8    0.641780\n",
      "9      7.969501    13.8    5.830499\n",
      "10    19.225187    19.6    0.374813\n",
      "11    19.696911    27.1    7.403089\n",
      "12    36.687702    36.5   -0.187702\n",
      "13     9.784266    15.2    5.415734\n",
      "14    14.134178    11.7   -2.434178\n",
      "15    16.549633    14.1   -2.449633\n",
      "16    14.035741    17.2    3.164259\n",
      "17    20.723890    16.8   -3.923890\n",
      "18    32.069923    32.9    0.830077\n",
      "19    21.782356    21.4   -0.382356\n",
      "20    34.588329    32.4   -2.188329\n",
      "21    28.161507    23.5   -4.661507\n",
      "22    21.982279    20.4   -1.582279\n",
      "23    15.237765    13.1   -2.137765\n",
      "24    18.106474    12.6   -5.506474\n",
      "25     8.134708    10.4    2.265292\n",
      "26    35.699463    50.0   14.300537\n",
      "27    17.739424    23.1    5.360576\n",
      "28    13.625247    13.4   -0.225247\n",
      "29    21.156153    24.3    3.143847\n",
      "..          ...     ...         ...\n",
      "72    17.693649    19.5    1.806351\n",
      "73    21.418242    21.0   -0.418242\n",
      "74    27.526747    30.1    2.573253\n",
      "75    15.347914    18.4    3.052086\n",
      "76    34.018070    34.6    0.581930\n",
      "77    21.644808    20.1   -1.544808\n",
      "78    40.236862    43.5    3.263138\n",
      "79    23.894194    21.6   -2.294194\n",
      "80    19.206249    18.3   -0.906249\n",
      "81    20.132231    21.4    1.267769\n",
      "82    21.850767    18.9   -2.950767\n",
      "83    11.070068    13.4    2.329932\n",
      "84    30.408710    30.8    0.391290\n",
      "85    25.289640    25.0   -0.289640\n",
      "86    25.768282    25.2   -0.568282\n",
      "87     8.118471     8.8    0.681529\n",
      "88    30.570581    31.1    0.529419\n",
      "89    10.653531    13.4    2.746469\n",
      "90    40.412666    48.3    7.887334\n",
      "91    21.701283    17.8   -3.901283\n",
      "92     8.778216     5.6   -3.178216\n",
      "93    12.535055    12.7    0.164945\n",
      "94    17.012262    16.1   -0.912262\n",
      "95    18.989309    20.9    1.910691\n",
      "96    19.273836    19.9    0.626164\n",
      "97    14.782319    13.9   -0.882319\n",
      "98    25.127522    22.6   -2.527522\n",
      "99    20.834837    21.2    0.365163\n",
      "100   21.338478    21.2   -0.138478\n",
      "101   20.786850    22.9    2.113150\n",
      "\n",
      "[102 rows x 3 columns]\n"
     ]
    }
   ],
   "source": [
    "from datetime import datetime\n",
    "\n",
    "# define some parameters\n",
    "n_epochs = 40\n",
    "display_epoch = 2   # checkpoint will also be created based on this\n",
    "batch_size = 10\n",
    "n_batches = int(n_train/batch_size)\n",
    "\n",
    "# set up the directory to store the results for tensorboard\n",
    "now = datetime.utcnow().strftime(\"%Y%m%d%H%M%S\")\n",
    "root_logdir = \"tf_logs\"\n",
    "logdir = \"{}/run-{}/\".format(root_logdir, now)\n",
    "\n",
    "# this will help to restore the model to a specific epoch\n",
    "saver = tf.train.Saver(tf.global_variables())\n",
    "\n",
    "# store the results through every epoch iteration\n",
    "mse_train_list = []\n",
    "mse_test_list = []\n",
    "learning_list = []\n",
    "prediction_results = []\n",
    "\n",
    "with tf.Session() as sess:\n",
    "    sess.run(tf.global_variables_initializer())\n",
    "    \n",
    "    # write logs for tensorboard\n",
    "    summary_writer = tf.summary.FileWriter(logdir, graph=tf.get_default_graph())\n",
    "    \n",
    "    for epoch in range(n_epochs):\n",
    "        for i in range(0, n_train, batch_size):\n",
    "            # create batches\n",
    "            X_batch = X_train[i:i+batch_size]\n",
    "            y_batch = y_train[i:i+batch_size]\n",
    "            \n",
    "            # improve the model\n",
    "            _, _summary = sess.run([training_op, merged_summary_op], feed_dict={X:X_batch, Y:y_batch})\n",
    "            \n",
    "            # Write logs at every iteration\n",
    "            summary_writer.add_summary(_summary, epoch * n_batches + i)\n",
    "\n",
    "        # measure performance and display the results\n",
    "        if (epoch+1) % display_epoch == 0:\n",
    "            _mse_train = sess.run(loss, feed_dict={X: X_train, Y: y_train})\n",
    "            _mse_test = sess.run(loss, feed_dict={X: X_test, Y: y_test})\n",
    "            mse_train_list.append(_mse_train); mse_test_list.append(_mse_test)\n",
    "            learning_list.append(sess.run(learning_rate))\n",
    "            \n",
    "            # Save model weights to disk for reproducibility\n",
    "            saver = tf.train.Saver(max_to_keep=15)\n",
    "            saver.save(sess, \"tf_checkpoints/epoch{:04}.ckpt\".format((epoch+1)))\n",
    "            \n",
    "            print(\"Epoch: {:04}\\tTrainMSE: {:06.5f}\\tTestMSE: {:06.5f}, Learning: {:06.7f}\".format((epoch+1),\n",
    "                                                                                                   _mse_train,\n",
    "                                                                                                   _mse_test,\n",
    "                                                                                                   learning_list[-1]))\n",
    "    # store the predictuve values\n",
    "    prediction_results = sess.run(y_pred, feed_dict={X: X_test, Y: y_test})\n",
    "    predictions = sess.run(y_pred, feed_dict={X: X_test, Y: y_test})\n",
    "    \n",
    "    # output comparative table\n",
    "    dataframe = pd.DataFrame(predictions, columns=['Prediction'])\n",
    "    dataframe['Target'] = y_test\n",
    "    dataframe['Difference'] = dataframe.Target - dataframe.Prediction\n",
    "    print('\\nPrinting results :\\n\\n', dataframe)\n",
    "    \n"
   ]
  },
  {
   "cell_type": "markdown",
   "metadata": {},
   "source": [
    "##### VISUALIZE THE MODEL'S IMPROVEMENTS"
   ]
  },
  {
   "cell_type": "code",
   "execution_count": 10,
   "metadata": {},
   "outputs": [
    {
     "data": {
      "image/png": "[encoded data removed]",
      "text/plain": [
       "<Figure size 432x288 with 1 Axes>"
      ]
     },
     "metadata": {
      "needs_background": "light"
     },
     "output_type": "display_data"
    }
   ],
   "source": [
    "%matplotlib inline\n",
    "import matplotlib.pyplot as plt\n",
    "import matplotlib.patches as mpatches\n",
    "\n",
    "# set up legend\n",
    "blue_patch = mpatches.Patch(color='blue', label='Train MSE')\n",
    "red_patch = mpatches.Patch(color='red', label='Test MSE')\n",
    "plt.legend(handles=[blue_patch,red_patch])\n",
    "plt.grid()\n",
    "\n",
    "# plot the data\n",
    "plt.plot(mse_train_list, color='blue')\n",
    "plt.plot(mse_test_list, color='red')\n",
    "\n",
    "plt.xlabel('epochs (x{})'.format(display_epoch))\n",
    "plt.ylabel('MSE [minimize]');"
   ]
  },
  {
   "cell_type": "markdown",
   "metadata": {},
   "source": [
    "##### LEARNING RATE EVOLUTION"
   ]
  },
  {
   "cell_type": "code",
   "execution_count": 11,
   "metadata": {},
   "outputs": [
    {
     "data": {
      "image/png": "[encoded data removed]",
      "text/plain": [
       "<Figure size 432x288 with 1 Axes>"
      ]
     },
     "metadata": {
      "needs_background": "light"
     },
     "output_type": "display_data"
    }
   ],
   "source": [
    "or_patch = mpatches.Patch(color='orange', label='Learning rate')\n",
    "plt.legend(handles=[or_patch])\n",
    "\n",
    "plt.plot(learning_list, color='orange');\n",
    "plt.xlabel('epochs (x{})'.format(display_epoch))\n",
    "plt.ylabel('learning rate');"
   ]
  },
  {
   "cell_type": "markdown",
   "metadata": {},
   "source": [
    "##### VISUALIZE THE RESULTS"
   ]
  },
  {
   "cell_type": "code",
   "execution_count": 12,
   "metadata": {},
   "outputs": [
    {
     "data": {
      "image/png": "[encoded data removed]",
      "text/plain": [
       "<Figure size 1080x720 with 1 Axes>"
      ]
     },
     "metadata": {
      "needs_background": "light"
     },
     "output_type": "display_data"
    }
   ],
   "source": [
    "plt.figure(figsize=(15,10))\n",
    "\n",
    "# define legend\n",
    "blue_patch = mpatches.Patch(color='blue', label='Prediction')\n",
    "red_patch = mpatches.Patch(color='red', label='Expected Value')\n",
    "green_patch = mpatches.Patch(color='green', label='Abs Error')\n",
    "plt.legend(handles=[blue_patch,red_patch, green_patch])\n",
    "\n",
    "# plot data\n",
    "x_array = np.arange(len(prediction_results))\n",
    "plt.scatter(x_array, prediction_results, color='blue')\n",
    "plt.scatter(x_array, y_test, color='red')\n",
    "\n",
    "abs_error = abs(y_test-prediction_results)\n",
    "plt.plot(x_array, abs_error, color='green')\n",
    "plt.grid()\n",
    "\n",
    "# define legends\n",
    "plt.xlabel('index'.format(display_epoch))\n",
    "plt.ylabel('MEDV');"
   ]
  },
  {
   "cell_type": "markdown",
   "metadata": {},
   "source": [
    "##### VISUALIZE TENSORBOARD"
   ]
  },
  {
   "cell_type": "code",
   "execution_count": 13,
   "metadata": {},
   "outputs": [
    {
     "data": {
      "text/plain": [
       "'\\nfrom IPython.display import clear_output, Image, display, HTML\\n\\n#   CHECK IT ON TENSORBOARD TYPING THESE LINES IN THE COMMAND PROMPT:\\n#   tensorboard --logdir=/tmp/tf_logs\\n\\ndef strip_consts(graph_def, max_const_size=32):\\n    \"\"\"Strip large constant values from graph_def.\"\"\"\\n    strip_def = tf.GraphDef()\\n    for n0 in graph_def.node:\\n        n = strip_def.node.add() \\n        n.MergeFrom(n0)\\n        if n.op == \\'Const\\':\\n            tensor = n.attr[\\'value\\'].tensor\\n            size = len(tensor.tensor_content)\\n            if size > max_const_size:\\n                tensor.tensor_content = b\"<stripped %d bytes>\"%size\\n    return strip_def\\n\\ndef show_graph(graph_def, max_const_size=32):\\n    \"\"\"Visualize TensorFlow graph.\"\"\"\\n    if hasattr(graph_def, \\'as_graph_def\\'):\\n        graph_def = graph_def.as_graph_def()\\n    strip_def = strip_consts(graph_def, max_const_size=max_const_size)\\n    code = \"\"\"\\n        <script>\\n          function load() {{\\n            document.getElementById(\"{id}\").pbtxt = {data};\\n          }}\\n        </script>\\n        <link rel=\"import\" href=\"https://tensorboard.appspot.com/tf-graph-basic.build.html\" onload=load()>\\n        <div style=\"height:600px\">\\n          <tf-graph-basic id=\"{id}\"></tf-graph-basic>\\n        </div>\\n    \"\"\".format(data=repr(str(strip_def)), id=\\'graph\\'+str(np.random.rand()))\\n\\n    iframe = \"\"\"\\n        <iframe seamless style=\"width:1200px;height:620px;border:0\" srcdoc=\"{}\"></iframe>\\n    \"\"\".format(code.replace(\\'\"\\', \\'&quot;\\'))\\n    display(HTML(iframe))\\n    \\nshow_graph(tf.get_default_graph())\\n'"
      ]
     },
     "execution_count": 13,
     "metadata": {},
     "output_type": "execute_result"
    }
   ],
   "source": [
    "'''\n",
    "from IPython.display import clear_output, Image, display, HTML\n",
    "\n",
    "#   CHECK IT ON TENSORBOARD TYPING THESE LINES IN THE COMMAND PROMPT:\n",
    "#   tensorboard --logdir=/tmp/tf_logs\n",
    "\n",
    "def strip_consts(graph_def, max_const_size=32):\n",
    "    \"\"\"Strip large constant values from graph_def.\"\"\"\n",
    "    strip_def = tf.GraphDef()\n",
    "    for n0 in graph_def.node:\n",
    "        n = strip_def.node.add() \n",
    "        n.MergeFrom(n0)\n",
    "        if n.op == 'Const':\n",
    "            tensor = n.attr['value'].tensor\n",
    "            size = len(tensor.tensor_content)\n",
    "            if size > max_const_size:\n",
    "                tensor.tensor_content = b\"<stripped %d bytes>\"%size\n",
    "    return strip_def\n",
    "\n",
    "def show_graph(graph_def, max_const_size=32):\n",
    "    \"\"\"Visualize TensorFlow graph.\"\"\"\n",
    "    if hasattr(graph_def, 'as_graph_def'):\n",
    "        graph_def = graph_def.as_graph_def()\n",
    "    strip_def = strip_consts(graph_def, max_const_size=max_const_size)\n",
    "    code = \"\"\"\n",
    "        <script>\n",
    "          function load() {{\n",
    "            document.getElementById(\"{id}\").pbtxt = {data};\n",
    "          }}\n",
    "        </script>\n",
    "        <link rel=\"import\" href=\"https://tensorboard.appspot.com/tf-graph-basic.build.html\" onload=load()>\n",
    "        <div style=\"height:600px\">\n",
    "          <tf-graph-basic id=\"{id}\"></tf-graph-basic>\n",
    "        </div>\n",
    "    \"\"\".format(data=repr(str(strip_def)), id='graph'+str(np.random.rand()))\n",
    "\n",
    "    iframe = \"\"\"\n",
    "        <iframe seamless style=\"width:1200px;height:620px;border:0\" srcdoc=\"{}\"></iframe>\n",
    "    \"\"\".format(code.replace('\"', '&quot;'))\n",
    "    display(HTML(iframe))\n",
    "    \n",
    "show_graph(tf.get_default_graph())\n",
    "'''"
   ]
  },
  {
   "cell_type": "markdown",
   "metadata": {},
   "source": [
    "##### RESTORE TO CHECKPOINT"
   ]
  },
  {
   "cell_type": "code",
   "execution_count": 14,
   "metadata": {},
   "outputs": [
    {
     "data": {
      "text/plain": [
       "\"\\n# select the epoch to be restored\\nepoch = 50\\n\\n# Running a new session\\nprint('Restoring model to Epoch {}\\n'.format(epoch))\\n\\n\\nwith tf.Session() as sess:\\n    # Initialize variables\\n    sess.run(tf.global_variables_initializer())\\n    \\n    # Restore model weights from previously saved model\\n    checkpoint = tf.train.import_meta_graph('tf_checkpoints/epoch{:04}.ckpt.meta'.format(epoch))\\n    #checkpoint.restore(sess, 'tf_checkpoints/epoch{:04}'.format(epoch))\\n    \\n    # store the predictuve values\\n    predictions = sess.run(y_pred, feed_dict={X: X_test, Y: y_test})\\n    \\n    # output comparative table\\n    dataframe = pd.DataFrame(predictions, columns=['Prediction'])\\n    dataframe['Target'] = y_test\\n    dataframe['Difference'] = dataframe.Target - dataframe.Prediction\\n\\ndataframe\\n\""
      ]
     },
     "execution_count": 14,
     "metadata": {},
     "output_type": "execute_result"
    }
   ],
   "source": [
    "'''\n",
    "# select the epoch to be restored\n",
    "epoch = 50\n",
    "\n",
    "# Running a new session\n",
    "print('Restoring model to Epoch {}\\n'.format(epoch))\n",
    "\n",
    "\n",
    "with tf.Session() as sess:\n",
    "    # Initialize variables\n",
    "    sess.run(tf.global_variables_initializer())\n",
    "    \n",
    "    # Restore model weights from previously saved model\n",
    "    checkpoint = tf.train.import_meta_graph('tf_checkpoints/epoch{:04}.ckpt.meta'.format(epoch))\n",
    "    #checkpoint.restore(sess, 'tf_checkpoints/epoch{:04}'.format(epoch))\n",
    "    \n",
    "    # store the predictuve values\n",
    "    predictions = sess.run(y_pred, feed_dict={X: X_test, Y: y_test})\n",
    "    \n",
    "    # output comparative table\n",
    "    dataframe = pd.DataFrame(predictions, columns=['Prediction'])\n",
    "    dataframe['Target'] = y_test\n",
    "    dataframe['Difference'] = dataframe.Target - dataframe.Prediction\n",
    "\n",
    "dataframe\n",
    "'''"
   ]
  },
  {
   "cell_type": "code",
   "execution_count": null,
   "metadata": {},
   "outputs": [],
   "source": []
  }
 ],
 "metadata": {
  "kernelspec": {
   "display_name": "Python 3",
   "language": "python",
   "name": "python3"
  },
  "language_info": {
   "codemirror_mode": {
    "name": "ipython",
    "version": 3
   },
   "file_extension": ".py",
   "mimetype": "text/x-python",
   "name": "python",
   "nbconvert_exporter": "python",
   "pygments_lexer": "ipython3",
   "version": "3.5.6"
  }
 },
 "nbformat": 4,
 "nbformat_minor": 4
}
